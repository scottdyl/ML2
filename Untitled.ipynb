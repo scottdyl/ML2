{
 "cells": [
  {
   "cell_type": "code",
   "execution_count": 11,
   "id": "ca520d91",
   "metadata": {},
   "outputs": [
    {
     "ename": "IndentationError",
     "evalue": "unexpected indent (<ipython-input-11-d794e27670b0>, line 2)",
     "output_type": "error",
     "traceback": [
      "\u001b[1;36m  File \u001b[1;32m\"<ipython-input-11-d794e27670b0>\"\u001b[1;36m, line \u001b[1;32m2\u001b[0m\n\u001b[1;33m    {'model': 'random_forest', 'best_score': 0.9666666666666668, 'best_params': {'bootstrap': True,'criterion': 'gini', 'max_features': 'auto', 'n_estimators': 100, 'oob_score': True}},\u001b[0m\n\u001b[1;37m    ^\u001b[0m\n\u001b[1;31mIndentationError\u001b[0m\u001b[1;31m:\u001b[0m unexpected indent\n"
     ]
    }
   ],
   "source": [
    "answers = {'model': 'KNN', 'best_score': 0.9800000000000001, 'best_params': {'algorithm': 'ball_tree', 'n_neighbors': 6, 'weights': 'uniform'}}, \n",
    "           {'model': 'random_forest', 'best_score': 0.9666666666666668, 'best_params': {'bootstrap': True,'criterion': 'gini', 'max_features': 'auto', 'n_estimators': 100, 'oob_score': True}}, \n",
    "           {'model': 'logistic_regression', 'best_score': 0.9666666666666668, 'best_params': {'C': 5, 'penalty': 'l2'}}"
   ]
  },
  {
   "cell_type": "code",
   "execution_count": 5,
   "id": "4e469afa",
   "metadata": {},
   "outputs": [
    {
     "data": {
      "text/plain": [
       "[{'model': 'KNN',\n",
       "  'best_score': 0.9800000000000001,\n",
       "  'best_params': {'algorithm': 'ball_tree',\n",
       "   'n_neighbors': 6,\n",
       "   'weights': 'uniform'}},\n",
       " {'model': 'random_forest',\n",
       "  'best_score': 0.9666666666666668,\n",
       "  'best_params': {'bootstrap': True,\n",
       "   'criterion': 'gini',\n",
       "   'max_features': 'auto',\n",
       "   'n_estimators': 100,\n",
       "   'oob_score': True}},\n",
       " {'model': 'logistic_regression',\n",
       "  'best_score': 0.9666666666666668,\n",
       "  'best_params': {'C': 5, 'penalty': 'l2'}}]"
      ]
     },
     "execution_count": 5,
     "metadata": {},
     "output_type": "execute_result"
    }
   ],
   "source": [
    "answers"
   ]
  },
  {
   "cell_type": "code",
   "execution_count": 8,
   "id": "18ba2869",
   "metadata": {},
   "outputs": [],
   "source": [
    "def plot_parameters(clfsAccuracyDict,filename='clf_Histograms_'):\n",
    "    filename_prefix = filename\n",
    "    plot_num = 0\n",
    "    n = max(len(v1) for k1, v1 in clfsAccuracyDict.items())\n",
    "\n",
    "    #create the histograms\n",
    "    #matplotlib is used to create the histograms: https://matplotlib.org/index.html\n",
    "    for k1, v1 in clfsAccuracyDict.items():\n",
    "        fig = plt.figure(figsize =(10,10))\n",
    "        ax  = fig.add_subplot(1, 1, 1)\n",
    "        plt.hist(v1, alpha=0.75)\n",
    "        ax.set_title(k1)\n",
    "        ax.set_xlabel('Accuracy')\n",
    "        ax.set_ylabel('Frequency', fontsize=25)\n",
    "        ax.yaxis.set_ticks(np.arange(0, n+1, 1)) \n",
    "        ax.grid(True) \n",
    "        plot_num_str = str(plot_num) \n",
    "        filename = filename_prefix + plot_num_str\n",
    "        plt.savefig(filename, bbox_inches = 'tight')\n",
    "        plot_num = plot_num+1 \n",
    "    plt.show()\n",
    "    \n",
    "    for k1, v1 in clfsAccuracyDict.items():\n",
    "        \n",
    "        \n",
    "        plt.show()"
   ]
  },
  {
   "cell_type": "code",
   "execution_count": 9,
   "id": "ae48297a",
   "metadata": {},
   "outputs": [
    {
     "ename": "AttributeError",
     "evalue": "'list' object has no attribute 'items'",
     "output_type": "error",
     "traceback": [
      "\u001b[1;31m---------------------------------------------------------------------------\u001b[0m",
      "\u001b[1;31mAttributeError\u001b[0m                            Traceback (most recent call last)",
      "\u001b[1;32m<ipython-input-9-a550490c7005>\u001b[0m in \u001b[0;36m<module>\u001b[1;34m\u001b[0m\n\u001b[1;32m----> 1\u001b[1;33m \u001b[0mplot_parameters\u001b[0m\u001b[1;33m(\u001b[0m\u001b[0manswers\u001b[0m\u001b[1;33m)\u001b[0m\u001b[1;33m\u001b[0m\u001b[1;33m\u001b[0m\u001b[0m\n\u001b[0m",
      "\u001b[1;32m<ipython-input-8-b4dccea7fc99>\u001b[0m in \u001b[0;36mplot_parameters\u001b[1;34m(clfsAccuracyDict, filename)\u001b[0m\n\u001b[0;32m      2\u001b[0m     \u001b[0mfilename_prefix\u001b[0m \u001b[1;33m=\u001b[0m \u001b[0mfilename\u001b[0m\u001b[1;33m\u001b[0m\u001b[1;33m\u001b[0m\u001b[0m\n\u001b[0;32m      3\u001b[0m     \u001b[0mplot_num\u001b[0m \u001b[1;33m=\u001b[0m \u001b[1;36m0\u001b[0m\u001b[1;33m\u001b[0m\u001b[1;33m\u001b[0m\u001b[0m\n\u001b[1;32m----> 4\u001b[1;33m     \u001b[0mn\u001b[0m \u001b[1;33m=\u001b[0m \u001b[0mmax\u001b[0m\u001b[1;33m(\u001b[0m\u001b[0mlen\u001b[0m\u001b[1;33m(\u001b[0m\u001b[0mv1\u001b[0m\u001b[1;33m)\u001b[0m \u001b[1;32mfor\u001b[0m \u001b[0mk1\u001b[0m\u001b[1;33m,\u001b[0m \u001b[0mv1\u001b[0m \u001b[1;32min\u001b[0m \u001b[0mclfsAccuracyDict\u001b[0m\u001b[1;33m.\u001b[0m\u001b[0mitems\u001b[0m\u001b[1;33m(\u001b[0m\u001b[1;33m)\u001b[0m\u001b[1;33m)\u001b[0m\u001b[1;33m\u001b[0m\u001b[1;33m\u001b[0m\u001b[0m\n\u001b[0m\u001b[0;32m      5\u001b[0m \u001b[1;33m\u001b[0m\u001b[0m\n\u001b[0;32m      6\u001b[0m     \u001b[1;31m#create the histograms\u001b[0m\u001b[1;33m\u001b[0m\u001b[1;33m\u001b[0m\u001b[1;33m\u001b[0m\u001b[0m\n",
      "\u001b[1;31mAttributeError\u001b[0m: 'list' object has no attribute 'items'"
     ]
    }
   ],
   "source": [
    "plot_parameters(answers)"
   ]
  },
  {
   "cell_type": "code",
   "execution_count": null,
   "id": "3ad35060",
   "metadata": {},
   "outputs": [],
   "source": []
  }
 ],
 "metadata": {
  "kernelspec": {
   "display_name": "Python 3",
   "language": "python",
   "name": "python3"
  },
  "language_info": {
   "codemirror_mode": {
    "name": "ipython",
    "version": 3
   },
   "file_extension": ".py",
   "mimetype": "text/x-python",
   "name": "python",
   "nbconvert_exporter": "python",
   "pygments_lexer": "ipython3",
   "version": "3.8.8"
  }
 },
 "nbformat": 4,
 "nbformat_minor": 5
}
